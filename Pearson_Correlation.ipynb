{
  "nbformat": 4,
  "nbformat_minor": 0,
  "metadata": {
    "colab": {
      "name": "Pearson Correlation.ipynb",
      "provenance": [],
      "collapsed_sections": [],
      "toc_visible": true,
      "authorship_tag": "ABX9TyPPoqjIlfxhfEQ4w3SterIj",
      "include_colab_link": true
    },
    "kernelspec": {
      "name": "python3",
      "display_name": "Python 3"
    }
  },
  "cells": [
    {
      "cell_type": "markdown",
      "metadata": {
        "id": "view-in-github",
        "colab_type": "text"
      },
      "source": [
        "<a href=\"https://colab.research.google.com/github/ArantesJoao/pearson-correlation-notebok/blob/master/Pearson_Correlation.ipynb\" target=\"_parent\"><img src=\"https://colab.research.google.com/assets/colab-badge.svg\" alt=\"Open In Colab\"/></a>"
      ]
    },
    {
      "cell_type": "markdown",
      "metadata": {
        "id": "V1_D5rPtK7_Y",
        "colab_type": "text"
      },
      "source": [
        "\n",
        "# **Imports and settings for the data visualization**\n"
      ]
    },
    {
      "cell_type": "code",
      "metadata": {
        "id": "eb8dY1iyKTgS",
        "colab_type": "code",
        "colab": {}
      },
      "source": [
        "import numpy as np\n",
        "import pandas as pd\n",
        "\n",
        "import matplotlib.pyplot as plt\n",
        "\n",
        "from pylab import rcParams\n",
        "import seaborn as sns\n",
        "\n",
        "import scipy\n",
        "from scipy.stats.stats import pearsonr"
      ],
      "execution_count": null,
      "outputs": []
    },
    {
      "cell_type": "code",
      "metadata": {
        "id": "xmA-m7cAKlCX",
        "colab_type": "code",
        "colab": {}
      },
      "source": [
        "%matplotlib inline\n",
        "rcParams['figure.figsize'] = 5, 4\n",
        "sns.set_style('darkgrid')"
      ],
      "execution_count": null,
      "outputs": []
    },
    {
      "cell_type": "markdown",
      "metadata": {
        "id": "1eCchWYuN0Ga",
        "colab_type": "text"
      },
      "source": [
        "# **Creating the data frame**"
      ]
    },
    {
      "cell_type": "markdown",
      "metadata": {
        "id": "NiLuV0B5PbDf",
        "colab_type": "text"
      },
      "source": [
        "Here you can substitute the values for the ones in your data frame"
      ]
    },
    {
      "cell_type": "markdown",
      "metadata": {
        "id": "CN70S1g6WFzu",
        "colab_type": "text"
      },
      "source": [
        "As an example, I used a small sample with the X being the age and and the Y the pulse of the studied group of people."
      ]
    },
    {
      "cell_type": "code",
      "metadata": {
        "id": "k_jCfcXiK1WM",
        "colab_type": "code",
        "colab": {}
      },
      "source": [
        "initial_informations = {\n",
        "  'data1' : [56, 42, 72, 36, 47, 55, 49, 38, 42, 68, 60, 63],\n",
        "  'data2' : [147, 125, 160, 118, 128, 150, 145, 115, 140, 152, 155, 149]\n",
        "}\n",
        "data = pd.DataFrame(initial_informations)"
      ],
      "execution_count": null,
      "outputs": []
    },
    {
      "cell_type": "markdown",
      "metadata": {
        "id": "OCpaIXpCWqBw",
        "colab_type": "text"
      },
      "source": [
        "Here we plot the dispersion graph to look for some apparent visual relation between the data, which seems to be present in a strong linear positive correlation."
      ]
    },
    {
      "cell_type": "code",
      "metadata": {
        "id": "_7Eq1BLjNsyX",
        "colab_type": "code",
        "colab": {
          "base_uri": "https://localhost:8080/",
          "height": 296
        },
        "outputId": "18baac4e-2204-479d-d365-0f2c89659c8c"
      },
      "source": [
        "sns.scatterplot(data=data, x='data1', y='data2', s=75)"
      ],
      "execution_count": null,
      "outputs": [
        {
          "output_type": "execute_result",
          "data": {
            "text/plain": [
              "<matplotlib.axes._subplots.AxesSubplot at 0x7f6fad5ad710>"
            ]
          },
          "metadata": {
            "tags": []
          },
          "execution_count": 87
        },
        {
          "output_type": "display_data",
          "data": {
            "image/png": "[encoded data removed]",
            "text/plain": [
              "<Figure size 360x288 with 1 Axes>"
            ]
          },
          "metadata": {
            "tags": []
          }
        }
      ]
    },
    {
      "cell_type": "markdown",
      "metadata": {
        "id": "jtsBqTqGS-KK",
        "colab_type": "text"
      },
      "source": [
        "# **Using scipy to calculate the Pearson correlation**"
      ]
    },
    {
      "cell_type": "markdown",
      "metadata": {
        "id": "T-SxIoQVTFtn",
        "colab_type": "text"
      },
      "source": [
        "Isolate variables and make a simple print with the personr() function\n"
      ]
    },
    {
      "cell_type": "code",
      "metadata": {
        "id": "JQ5IdIqITMom",
        "colab_type": "code",
        "colab": {
          "base_uri": "https://localhost:8080/",
          "height": 34
        },
        "outputId": "4762be1a-318b-4153-ee5c-e9644ef758e3"
      },
      "source": [
        "data1 = data.data1\n",
        "data2 = data.data2\n",
        "\n",
        "pearsonr_coefficient, p_value = pearsonr(data1, data2)\n",
        "print('Pearson Correlation Coefficient: %0.3f' % (pearsonr_coefficient))"
      ],
      "execution_count": null,
      "outputs": [
        {
          "output_type": "stream",
          "text": [
            "PearsonR Correlation Coefficient: 0.896\n"
          ],
          "name": "stdout"
        }
      ]
    },
    {
      "cell_type": "markdown",
      "metadata": {
        "id": "BU3Cn0U3UeC0",
        "colab_type": "text"
      },
      "source": [
        "# **Using corr() to calculate the Pearson correlation**"
      ]
    },
    {
      "cell_type": "markdown",
      "metadata": {
        "id": "m_wv6pheaN53",
        "colab_type": "text"
      },
      "source": [
        "corr() is more suitable when you want to find the Pearson correlation between more than two datasets, but I still think it is worth to show the possibility to have a table showing the Pearson correlation between any number of data."
      ]
    },
    {
      "cell_type": "code",
      "metadata": {
        "id": "tr64inrpU0Xe",
        "colab_type": "code",
        "colab": {
          "base_uri": "https://localhost:8080/",
          "height": 111
        },
        "outputId": "a068710e-91aa-4a63-96eb-874095126942"
      },
      "source": [
        "corr = data.corr()\n",
        "corr"
      ],
      "execution_count": null,
      "outputs": [
        {
          "output_type": "execute_result",
          "data": {
            "text/html": [
              "<div>\n",
              "<style scoped>\n",
              "    .dataframe tbody tr th:only-of-type {\n",
              "        vertical-align: middle;\n",
              "    }\n",
              "\n",
              "    .dataframe tbody tr th {\n",
              "        vertical-align: top;\n",
              "    }\n",
              "\n",
              "    .dataframe thead th {\n",
              "        text-align: right;\n",
              "    }\n",
              "</style>\n",
              "<table border=\"1\" class=\"dataframe\">\n",
              "  <thead>\n",
              "    <tr style=\"text-align: right;\">\n",
              "      <th></th>\n",
              "      <th>data1</th>\n",
              "      <th>data2</th>\n",
              "    </tr>\n",
              "  </thead>\n",
              "  <tbody>\n",
              "    <tr>\n",
              "      <th>data1</th>\n",
              "      <td>1.000000</td>\n",
              "      <td>0.896139</td>\n",
              "    </tr>\n",
              "    <tr>\n",
              "      <th>data2</th>\n",
              "      <td>0.896139</td>\n",
              "      <td>1.000000</td>\n",
              "    </tr>\n",
              "  </tbody>\n",
              "</table>\n",
              "</div>"
            ],
            "text/plain": [
              "          data1     data2\n",
              "data1  1.000000  0.896139\n",
              "data2  0.896139  1.000000"
            ]
          },
          "metadata": {
            "tags": []
          },
          "execution_count": 88
        }
      ]
    },
    {
      "cell_type": "markdown",
      "metadata": {
        "id": "lMMM-5jlUtL2",
        "colab_type": "text"
      },
      "source": [
        "# **Using pandas to calculate the Pearson correlation with a heatmap**"
      ]
    },
    {
      "cell_type": "markdown",
      "metadata": {
        "id": "Sl1GsDtjbyrI",
        "colab_type": "text"
      },
      "source": [
        "Even more than corr(), the heatmap() function definitely makes much more sense to use when you have more than two datasets, but I also think it's valid to show this possibility that pandas give us here."
      ]
    },
    {
      "cell_type": "code",
      "metadata": {
        "id": "dOI97_J-VGmc",
        "colab_type": "code",
        "colab": {
          "base_uri": "https://localhost:8080/"
        },
        "outputId": "53b58c14-c633-46b4-99cf-9e57b0225c65"
      },
      "source": [
        "sb.heatmap(corr, xticklabels=corr.columns.values, yticklabels=corr.columns.values)"
      ],
      "execution_count": null,
      "outputs": [
        {
          "output_type": "execute_result",
          "data": {
            "text/plain": [
              "<matplotlib.axes._subplots.AxesSubplot at 0x7f94c1bb36a0>"
            ]
          },
          "metadata": {
            "tags": []
          },
          "execution_count": 64
        },
        {
          "output_type": "display_data",
          "data": {
            "image/png": "[encoded data removed]",
            "text/plain": [
              "<Figure size 360x288 with 2 Axes>"
            ]
          },
          "metadata": {
            "tags": []
          }
        }
      ]
    }
  ]
}
